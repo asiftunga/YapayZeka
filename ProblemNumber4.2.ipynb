{
 "cells": [
  {
   "cell_type": "markdown",
   "metadata": {},
   "source": [
    "x tensörü, 2 sample ve her bir sampleda 3 öznitelik içeren bir veri matrisidir."
   ]
  },
  {
   "cell_type": "code",
   "execution_count": 1,
   "metadata": {},
   "outputs": [
    {
     "data": {
      "text/plain": [
       "tensor([[1., 2., 3.],\n",
       "        [4., 5., 6.]])"
      ]
     },
     "execution_count": 1,
     "metadata": {},
     "output_type": "execute_result"
    }
   ],
   "source": [
    "import torch as t\n",
    "\n",
    "X = t.tensor([[1,2,3],[4,5,6]], dtype=t.float)\n",
    "\n",
    "X"
   ]
  },
  {
   "cell_type": "markdown",
   "metadata": {},
   "source": [
    "Carpilabilir bir vector olusturduk, tensor olusturduk"
   ]
  },
  {
   "cell_type": "code",
   "execution_count": 2,
   "metadata": {},
   "outputs": [],
   "source": [
    "t.manual_seed(190401063) #calistirilinca ayni random degerleri atamasi icin\n",
    "\n",
    "Input = X.shape[1] #oznitelik sayisi (kolon)\n",
    "\n",
    "WeightHidden = t.randn(Input, 50)\n",
    "\n",
    "BiasHidden = t.randn(1, 50)\n",
    "\n",
    "WeightOutput = t.randn(50, 1)\n",
    "\n",
    "BiasOutput = t.randn(1, 1)\n",
    "\n",
    "# Input, WeightHidden, BiasHidden, WeightOutput, BiasOutput"
   ]
  },
  {
   "cell_type": "code",
   "execution_count": 3,
   "metadata": {},
   "outputs": [],
   "source": [
    "def TanhActivation(x):\n",
    "    return 2 / (1 + t.exp(-2 * x)) - 1\n",
    "\n",
    "def SigmoidActivation(x):\n",
    "    return 1 / (1 + t.exp(-x))"
   ]
  },
  {
   "cell_type": "code",
   "execution_count": 4,
   "metadata": {},
   "outputs": [
    {
     "data": {
      "text/plain": [
       "tensor([[0.4626],\n",
       "        [0.9951]])"
      ]
     },
     "execution_count": 4,
     "metadata": {},
     "output_type": "execute_result"
    }
   ],
   "source": [
    "HiddenLayer = TanhActivation(t.matmul(X, WeightHidden) + BiasHidden)\n",
    "\n",
    "OutputLayer = SigmoidActivation(t.matmul(HiddenLayer, WeightOutput) + BiasOutput)\n",
    "\n",
    "OutputLayer"
   ]
  }
 ],
 "metadata": {
  "kernelspec": {
   "display_name": "Python 3.10.9 ('base')",
   "language": "python",
   "name": "python3"
  },
  "language_info": {
   "codemirror_mode": {
    "name": "ipython",
    "version": 3
   },
   "file_extension": ".py",
   "mimetype": "text/x-python",
   "name": "python",
   "nbconvert_exporter": "python",
   "pygments_lexer": "ipython3",
   "version": "3.10.9"
  },
  "orig_nbformat": 4,
  "vscode": {
   "interpreter": {
    "hash": "01dc5ee1e3b251006dc7afc89ff979609b458fe595d2875e7cf70ac0c5118a07"
   }
  }
 },
 "nbformat": 4,
 "nbformat_minor": 2
}
